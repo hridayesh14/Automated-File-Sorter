{
 "cells": [
  {
   "cell_type": "code",
   "execution_count": 6,
   "id": "b02f4c82",
   "metadata": {},
   "outputs": [],
   "source": [
    "import os\n",
    "import shutil\n",
    "\n",
    "# Path where the files are located and where folders will be created\n",
    "path = r\"C:\\Users\\lenovo\\Desktop\\try/\"\n",
    "\n",
    "# Get all file names in the specified directory\n",
    "file_names = os.listdir(path)\n",
    "\n",
    "# Initialize a set to hold unique file extensions\n",
    "file_extensions = set()\n",
    "\n",
    "# Populate the set with file extensions (in lowercase to avoid duplicates due to case differences)\n",
    "for file_name in file_names:\n",
    "    if os.path.isfile(os.path.join(path, file_name)):  # Ensure it's a file, not a directory\n",
    "        extension = os.path.splitext(file_name)[1].lower()\n",
    "        if extension:  # Ensure there is an extension\n",
    "            file_extensions.add(extension)\n",
    "\n",
    "# Create folders for each file type if they don't already exist\n",
    "for ext in file_extensions:\n",
    "    folder_name = ext[1:] + \" files\"  # Remove the dot from extension and add ' files'\n",
    "    folder_path = os.path.join(path, folder_name)\n",
    "    if not os.path.exists(folder_path):\n",
    "        os.makedirs(folder_path)\n",
    "\n",
    "# Move files to their respective folders\n",
    "for file_name in file_names:\n",
    "    # Skip directories\n",
    "    if os.path.isdir(os.path.join(path, file_name)):\n",
    "        continue\n",
    "\n",
    "    # Get the file extension and corresponding folder name\n",
    "    file_extension = os.path.splitext(file_name)[1].lower()\n",
    "    if file_extension:\n",
    "        folder_name = file_extension[1:] + \" files\"\n",
    "        target_folder_path = os.path.join(path, folder_name)\n",
    "\n",
    "        # Full path for the file's current location and the target location\n",
    "        current_file_path = os.path.join(path, file_name)\n",
    "        target_file_path = os.path.join(target_folder_path, file_name)\n",
    "        \n",
    "        # Move the file if it's not already in the target folder\n",
    "        if not os.path.exists(target_file_path):\n",
    "            shutil.move(current_file_path, target_file_path)"
   ]
  },
  {
   "cell_type": "code",
   "execution_count": null,
   "id": "a9ff9846",
   "metadata": {},
   "outputs": [],
   "source": []
  }
 ],
 "metadata": {
  "kernelspec": {
   "display_name": "Python 3 (ipykernel)",
   "language": "python",
   "name": "python3"
  },
  "language_info": {
   "codemirror_mode": {
    "name": "ipython",
    "version": 3
   },
   "file_extension": ".py",
   "mimetype": "text/x-python",
   "name": "python",
   "nbconvert_exporter": "python",
   "pygments_lexer": "ipython3",
   "version": "3.11.2"
  }
 },
 "nbformat": 4,
 "nbformat_minor": 5
}
